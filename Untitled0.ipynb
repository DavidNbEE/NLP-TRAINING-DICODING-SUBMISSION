{
  "nbformat": 4,
  "nbformat_minor": 0,
  "metadata": {
    "colab": {
      "provenance": []
    },
    "kernelspec": {
      "name": "python3",
      "display_name": "Python 3"
    },
    "language_info": {
      "name": "python"
    }
  },
  "cells": [
    {
      "cell_type": "code",
      "execution_count": 2,
      "metadata": {
        "id": "irOgI8lLDtFR"
      },
      "outputs": [],
      "source": [
        "import pandas as pd\n",
        "import numpy as np\n",
        "import tensorflow as tf\n",
        "from sklearn.model_selection import train_test_split\n",
        "from sklearn.preprocessing import LabelEncoder\n",
        "from sklearn.utils.class_weight import compute_class_weight\n",
        "from tensorflow.keras.preprocessing.text import Tokenizer\n",
        "from tensorflow.keras.preprocessing.sequence import pad_sequences"
      ]
    },
    {
      "cell_type": "code",
      "source": [
        "df_fixs = pd.read_csv('/content/sample_data/text.csv')\n",
        "\n",
        "df_fixs = df_fixs.sample(n=20000, random_state=42)\n",
        "\n",
        "label_encoder = LabelEncoder()\n",
        "df_fixs['label'] = label_encoder.fit_transform(df_fixs['label'])\n",
        "\n",
        "df_fixs.head()"
      ],
      "metadata": {
        "id": "H-LUtAf2D0Hc",
        "colab": {
          "base_uri": "https://localhost:8080/",
          "height": 206
        },
        "outputId": "02736019-71ee-469e-d6d5-3e246f71b296"
      },
      "execution_count": 3,
      "outputs": [
        {
          "output_type": "execute_result",
          "data": {
            "text/plain": [
              "        number                                               text  label\n",
              "36130    36130  id say maybe made them feel foolish but that w...      0\n",
              "138065  138065  i joined the lds church i admit to feeling som...      0\n",
              "146440  146440  i must admit i didnt feel like hugging him not...      3\n",
              "103337  103337  i hate that i can still feel if any nerve is d...      0\n",
              "315528  315528                  im actually feeling a little smug      1"
            ],
            "text/html": [
              "\n",
              "  <div id=\"df-64750e09-6e31-4891-85a0-eec0b489b65f\" class=\"colab-df-container\">\n",
              "    <div>\n",
              "<style scoped>\n",
              "    .dataframe tbody tr th:only-of-type {\n",
              "        vertical-align: middle;\n",
              "    }\n",
              "\n",
              "    .dataframe tbody tr th {\n",
              "        vertical-align: top;\n",
              "    }\n",
              "\n",
              "    .dataframe thead th {\n",
              "        text-align: right;\n",
              "    }\n",
              "</style>\n",
              "<table border=\"1\" class=\"dataframe\">\n",
              "  <thead>\n",
              "    <tr style=\"text-align: right;\">\n",
              "      <th></th>\n",
              "      <th>number</th>\n",
              "      <th>text</th>\n",
              "      <th>label</th>\n",
              "    </tr>\n",
              "  </thead>\n",
              "  <tbody>\n",
              "    <tr>\n",
              "      <th>36130</th>\n",
              "      <td>36130</td>\n",
              "      <td>id say maybe made them feel foolish but that w...</td>\n",
              "      <td>0</td>\n",
              "    </tr>\n",
              "    <tr>\n",
              "      <th>138065</th>\n",
              "      <td>138065</td>\n",
              "      <td>i joined the lds church i admit to feeling som...</td>\n",
              "      <td>0</td>\n",
              "    </tr>\n",
              "    <tr>\n",
              "      <th>146440</th>\n",
              "      <td>146440</td>\n",
              "      <td>i must admit i didnt feel like hugging him not...</td>\n",
              "      <td>3</td>\n",
              "    </tr>\n",
              "    <tr>\n",
              "      <th>103337</th>\n",
              "      <td>103337</td>\n",
              "      <td>i hate that i can still feel if any nerve is d...</td>\n",
              "      <td>0</td>\n",
              "    </tr>\n",
              "    <tr>\n",
              "      <th>315528</th>\n",
              "      <td>315528</td>\n",
              "      <td>im actually feeling a little smug</td>\n",
              "      <td>1</td>\n",
              "    </tr>\n",
              "  </tbody>\n",
              "</table>\n",
              "</div>\n",
              "    <div class=\"colab-df-buttons\">\n",
              "\n",
              "  <div class=\"colab-df-container\">\n",
              "    <button class=\"colab-df-convert\" onclick=\"convertToInteractive('df-64750e09-6e31-4891-85a0-eec0b489b65f')\"\n",
              "            title=\"Convert this dataframe to an interactive table.\"\n",
              "            style=\"display:none;\">\n",
              "\n",
              "  <svg xmlns=\"http://www.w3.org/2000/svg\" height=\"24px\" viewBox=\"0 -960 960 960\">\n",
              "    <path d=\"M120-120v-720h720v720H120Zm60-500h600v-160H180v160Zm220 220h160v-160H400v160Zm0 220h160v-160H400v160ZM180-400h160v-160H180v160Zm440 0h160v-160H620v160ZM180-180h160v-160H180v160Zm440 0h160v-160H620v160Z\"/>\n",
              "  </svg>\n",
              "    </button>\n",
              "\n",
              "  <style>\n",
              "    .colab-df-container {\n",
              "      display:flex;\n",
              "      gap: 12px;\n",
              "    }\n",
              "\n",
              "    .colab-df-convert {\n",
              "      background-color: #E8F0FE;\n",
              "      border: none;\n",
              "      border-radius: 50%;\n",
              "      cursor: pointer;\n",
              "      display: none;\n",
              "      fill: #1967D2;\n",
              "      height: 32px;\n",
              "      padding: 0 0 0 0;\n",
              "      width: 32px;\n",
              "    }\n",
              "\n",
              "    .colab-df-convert:hover {\n",
              "      background-color: #E2EBFA;\n",
              "      box-shadow: 0px 1px 2px rgba(60, 64, 67, 0.3), 0px 1px 3px 1px rgba(60, 64, 67, 0.15);\n",
              "      fill: #174EA6;\n",
              "    }\n",
              "\n",
              "    .colab-df-buttons div {\n",
              "      margin-bottom: 4px;\n",
              "    }\n",
              "\n",
              "    [theme=dark] .colab-df-convert {\n",
              "      background-color: #3B4455;\n",
              "      fill: #D2E3FC;\n",
              "    }\n",
              "\n",
              "    [theme=dark] .colab-df-convert:hover {\n",
              "      background-color: #434B5C;\n",
              "      box-shadow: 0px 1px 3px 1px rgba(0, 0, 0, 0.15);\n",
              "      filter: drop-shadow(0px 1px 2px rgba(0, 0, 0, 0.3));\n",
              "      fill: #FFFFFF;\n",
              "    }\n",
              "  </style>\n",
              "\n",
              "    <script>\n",
              "      const buttonEl =\n",
              "        document.querySelector('#df-64750e09-6e31-4891-85a0-eec0b489b65f button.colab-df-convert');\n",
              "      buttonEl.style.display =\n",
              "        google.colab.kernel.accessAllowed ? 'block' : 'none';\n",
              "\n",
              "      async function convertToInteractive(key) {\n",
              "        const element = document.querySelector('#df-64750e09-6e31-4891-85a0-eec0b489b65f');\n",
              "        const dataTable =\n",
              "          await google.colab.kernel.invokeFunction('convertToInteractive',\n",
              "                                                    [key], {});\n",
              "        if (!dataTable) return;\n",
              "\n",
              "        const docLinkHtml = 'Like what you see? Visit the ' +\n",
              "          '<a target=\"_blank\" href=https://colab.research.google.com/notebooks/data_table.ipynb>data table notebook</a>'\n",
              "          + ' to learn more about interactive tables.';\n",
              "        element.innerHTML = '';\n",
              "        dataTable['output_type'] = 'display_data';\n",
              "        await google.colab.output.renderOutput(dataTable, element);\n",
              "        const docLink = document.createElement('div');\n",
              "        docLink.innerHTML = docLinkHtml;\n",
              "        element.appendChild(docLink);\n",
              "      }\n",
              "    </script>\n",
              "  </div>\n",
              "\n",
              "\n",
              "<div id=\"df-43bf030f-c5f4-45e2-893d-cf17e9bfae01\">\n",
              "  <button class=\"colab-df-quickchart\" onclick=\"quickchart('df-43bf030f-c5f4-45e2-893d-cf17e9bfae01')\"\n",
              "            title=\"Suggest charts\"\n",
              "            style=\"display:none;\">\n",
              "\n",
              "<svg xmlns=\"http://www.w3.org/2000/svg\" height=\"24px\"viewBox=\"0 0 24 24\"\n",
              "     width=\"24px\">\n",
              "    <g>\n",
              "        <path d=\"M19 3H5c-1.1 0-2 .9-2 2v14c0 1.1.9 2 2 2h14c1.1 0 2-.9 2-2V5c0-1.1-.9-2-2-2zM9 17H7v-7h2v7zm4 0h-2V7h2v10zm4 0h-2v-4h2v4z\"/>\n",
              "    </g>\n",
              "</svg>\n",
              "  </button>\n",
              "\n",
              "<style>\n",
              "  .colab-df-quickchart {\n",
              "      --bg-color: #E8F0FE;\n",
              "      --fill-color: #1967D2;\n",
              "      --hover-bg-color: #E2EBFA;\n",
              "      --hover-fill-color: #174EA6;\n",
              "      --disabled-fill-color: #AAA;\n",
              "      --disabled-bg-color: #DDD;\n",
              "  }\n",
              "\n",
              "  [theme=dark] .colab-df-quickchart {\n",
              "      --bg-color: #3B4455;\n",
              "      --fill-color: #D2E3FC;\n",
              "      --hover-bg-color: #434B5C;\n",
              "      --hover-fill-color: #FFFFFF;\n",
              "      --disabled-bg-color: #3B4455;\n",
              "      --disabled-fill-color: #666;\n",
              "  }\n",
              "\n",
              "  .colab-df-quickchart {\n",
              "    background-color: var(--bg-color);\n",
              "    border: none;\n",
              "    border-radius: 50%;\n",
              "    cursor: pointer;\n",
              "    display: none;\n",
              "    fill: var(--fill-color);\n",
              "    height: 32px;\n",
              "    padding: 0;\n",
              "    width: 32px;\n",
              "  }\n",
              "\n",
              "  .colab-df-quickchart:hover {\n",
              "    background-color: var(--hover-bg-color);\n",
              "    box-shadow: 0 1px 2px rgba(60, 64, 67, 0.3), 0 1px 3px 1px rgba(60, 64, 67, 0.15);\n",
              "    fill: var(--button-hover-fill-color);\n",
              "  }\n",
              "\n",
              "  .colab-df-quickchart-complete:disabled,\n",
              "  .colab-df-quickchart-complete:disabled:hover {\n",
              "    background-color: var(--disabled-bg-color);\n",
              "    fill: var(--disabled-fill-color);\n",
              "    box-shadow: none;\n",
              "  }\n",
              "\n",
              "  .colab-df-spinner {\n",
              "    border: 2px solid var(--fill-color);\n",
              "    border-color: transparent;\n",
              "    border-bottom-color: var(--fill-color);\n",
              "    animation:\n",
              "      spin 1s steps(1) infinite;\n",
              "  }\n",
              "\n",
              "  @keyframes spin {\n",
              "    0% {\n",
              "      border-color: transparent;\n",
              "      border-bottom-color: var(--fill-color);\n",
              "      border-left-color: var(--fill-color);\n",
              "    }\n",
              "    20% {\n",
              "      border-color: transparent;\n",
              "      border-left-color: var(--fill-color);\n",
              "      border-top-color: var(--fill-color);\n",
              "    }\n",
              "    30% {\n",
              "      border-color: transparent;\n",
              "      border-left-color: var(--fill-color);\n",
              "      border-top-color: var(--fill-color);\n",
              "      border-right-color: var(--fill-color);\n",
              "    }\n",
              "    40% {\n",
              "      border-color: transparent;\n",
              "      border-right-color: var(--fill-color);\n",
              "      border-top-color: var(--fill-color);\n",
              "    }\n",
              "    60% {\n",
              "      border-color: transparent;\n",
              "      border-right-color: var(--fill-color);\n",
              "    }\n",
              "    80% {\n",
              "      border-color: transparent;\n",
              "      border-right-color: var(--fill-color);\n",
              "      border-bottom-color: var(--fill-color);\n",
              "    }\n",
              "    90% {\n",
              "      border-color: transparent;\n",
              "      border-bottom-color: var(--fill-color);\n",
              "    }\n",
              "  }\n",
              "</style>\n",
              "\n",
              "  <script>\n",
              "    async function quickchart(key) {\n",
              "      const quickchartButtonEl =\n",
              "        document.querySelector('#' + key + ' button');\n",
              "      quickchartButtonEl.disabled = true;  // To prevent multiple clicks.\n",
              "      quickchartButtonEl.classList.add('colab-df-spinner');\n",
              "      try {\n",
              "        const charts = await google.colab.kernel.invokeFunction(\n",
              "            'suggestCharts', [key], {});\n",
              "      } catch (error) {\n",
              "        console.error('Error during call to suggestCharts:', error);\n",
              "      }\n",
              "      quickchartButtonEl.classList.remove('colab-df-spinner');\n",
              "      quickchartButtonEl.classList.add('colab-df-quickchart-complete');\n",
              "    }\n",
              "    (() => {\n",
              "      let quickchartButtonEl =\n",
              "        document.querySelector('#df-43bf030f-c5f4-45e2-893d-cf17e9bfae01 button');\n",
              "      quickchartButtonEl.style.display =\n",
              "        google.colab.kernel.accessAllowed ? 'block' : 'none';\n",
              "    })();\n",
              "  </script>\n",
              "</div>\n",
              "    </div>\n",
              "  </div>\n"
            ],
            "application/vnd.google.colaboratory.intrinsic+json": {
              "type": "dataframe",
              "variable_name": "df_fixs",
              "summary": "{\n  \"name\": \"df_fixs\",\n  \"rows\": 20000,\n  \"fields\": [\n    {\n      \"column\": \"number\",\n      \"properties\": {\n        \"dtype\": \"number\",\n        \"std\": 120519,\n        \"min\": 81,\n        \"max\": 416808,\n        \"num_unique_values\": 20000,\n        \"samples\": [\n          12590,\n          274406,\n          318853\n        ],\n        \"semantic_type\": \"\",\n        \"description\": \"\"\n      }\n    },\n    {\n      \"column\": \"text\",\n      \"properties\": {\n        \"dtype\": \"string\",\n        \"num_unique_values\": 19946,\n        \"samples\": [\n          \"i feel very graceful in the way they progress and develop\",\n          \"i may have this image on the outside that i am all together and everything in the world is unicorns and rainbows but here in my own little world none of it feels to be so sweet as it comes off to others who are looking in\",\n          \"i told omangy that i was feeling violent and i wasnt in a good mood\"\n        ],\n        \"semantic_type\": \"\",\n        \"description\": \"\"\n      }\n    },\n    {\n      \"column\": \"label\",\n      \"properties\": {\n        \"dtype\": \"number\",\n        \"std\": 1,\n        \"min\": 0,\n        \"max\": 5,\n        \"num_unique_values\": 6,\n        \"samples\": [\n          0,\n          3,\n          4\n        ],\n        \"semantic_type\": \"\",\n        \"description\": \"\"\n      }\n    }\n  ]\n}"
            }
          },
          "metadata": {},
          "execution_count": 3
        }
      ]
    },
    {
      "cell_type": "code",
      "source": [
        "print(df_fixs)"
      ],
      "metadata": {
        "colab": {
          "base_uri": "https://localhost:8080/"
        },
        "id": "VzvxHT0hiqmd",
        "outputId": "0ab2c9e1-6586-4e7d-e85e-2cf21f31a195"
      },
      "execution_count": 4,
      "outputs": [
        {
          "output_type": "stream",
          "name": "stdout",
          "text": [
            "        number                                               text  label\n",
            "36130    36130  id say maybe made them feel foolish but that w...      0\n",
            "138065  138065  i joined the lds church i admit to feeling som...      0\n",
            "146440  146440  i must admit i didnt feel like hugging him not...      3\n",
            "103337  103337  i hate that i can still feel if any nerve is d...      0\n",
            "315528  315528                  im actually feeling a little smug      1\n",
            "...        ...                                                ...    ...\n",
            "260312  260312  i was in some phat laces spinnin on my back yo...      3\n",
            "235418  235418  i cant really put a finger on what i was feeli...      0\n",
            "311641  311641                              i am feeling artistic      1\n",
            "189903  189903  i know how it feels like to see something funn...      5\n",
            "33840    33840  i said it because when these types of things h...      4\n",
            "\n",
            "[20000 rows x 3 columns]\n"
          ]
        }
      ]
    },
    {
      "cell_type": "code",
      "source": [
        "train_texts, test_texts, train_labels, test_labels = train_test_split(df_fixs['text'], df_fixs['label'], test_size=0.2, random_state=42)"
      ],
      "metadata": {
        "id": "rDarPCxIEYmi"
      },
      "execution_count": 5,
      "outputs": []
    },
    {
      "cell_type": "code",
      "source": [
        "tokenizer = Tokenizer(num_words=10000, oov_token='<OOV>')\n",
        "tokenizer.fit_on_texts(train_texts)\n",
        "\n",
        "train_sequences = tokenizer.texts_to_sequences(train_texts)\n",
        "test_sequences = tokenizer.texts_to_sequences(test_texts)\n",
        "\n",
        "max_sequence_length = max([len(sequence) for sequence in train_sequences])\n",
        "\n",
        "train_padded = pad_sequences(train_sequences, maxlen=max_sequence_length, padding='post', truncating='post')\n",
        "test_padded = pad_sequences(test_sequences, maxlen=max_sequence_length, padding='post', truncating='post')"
      ],
      "metadata": {
        "id": "7uRv3uCQEbUU"
      },
      "execution_count": 6,
      "outputs": []
    },
    {
      "cell_type": "code",
      "source": [
        "class_counts = np.bincount(train_labels)\n",
        "total_samples = np.sum(class_counts)\n",
        "class_weights = {class_label: total_samples / (len(class_counts) * class_count) for class_label, class_count in enumerate(class_counts)}\n"
      ],
      "metadata": {
        "id": "aqkMhXXdEfE6"
      },
      "execution_count": 7,
      "outputs": []
    },
    {
      "cell_type": "code",
      "source": [
        "model = tf.keras.Sequential([\n",
        "    tf.keras.layers.Embedding(input_dim=10000, output_dim=16, input_length=max_sequence_length),\n",
        "    tf.keras.layers.Bidirectional(tf.keras.layers.LSTM(32)),\n",
        "    tf.keras.layers.Dense(64, activation='relu'),\n",
        "    tf.keras.layers.Dropout(0.5),\n",
        "    tf.keras.layers.Dense(6, activation='softmax')\n",
        "])\n",
        "\n",
        "model.compile(loss='sparse_categorical_crossentropy', optimizer='adam', metrics=['accuracy'])\n"
      ],
      "metadata": {
        "id": "sJ2UAKYNEh7M"
      },
      "execution_count": 8,
      "outputs": []
    },
    {
      "cell_type": "code",
      "source": [
        "from tensorflow.keras.callbacks import ModelCheckpoint, EarlyStopping\n",
        "\n",
        "checkpoint = ModelCheckpoint('best_model.h5', monitor='val_accuracy', verbose=1, save_best_only=True, mode='max')\n",
        "early_stopping = EarlyStopping(monitor='val_accuracy', patience=3, verbose=1, mode='max', restore_best_weights=True)"
      ],
      "metadata": {
        "id": "MPN7h6DyGYMW"
      },
      "execution_count": 9,
      "outputs": []
    },
    {
      "cell_type": "code",
      "source": [
        "history = model.fit(train_padded, train_labels, epochs=20, batch_size=32,\n",
        "                    validation_data=(test_padded, test_labels),\n",
        "                    class_weight=class_weights, callbacks=[checkpoint, early_stopping])\n"
      ],
      "metadata": {
        "colab": {
          "base_uri": "https://localhost:8080/"
        },
        "id": "Z-28eDzVEnj5",
        "outputId": "4ae20bb9-5024-4bfa-9895-3f2c5d9a6526"
      },
      "execution_count": 10,
      "outputs": [
        {
          "output_type": "stream",
          "name": "stdout",
          "text": [
            "Epoch 1/20\n",
            "500/500 [==============================] - ETA: 0s - loss: 1.6386 - accuracy: 0.2476\n",
            "Epoch 1: val_accuracy improved from -inf to 0.38925, saving model to best_model.h5\n",
            "500/500 [==============================] - 36s 62ms/step - loss: 1.6386 - accuracy: 0.2476 - val_loss: 1.2285 - val_accuracy: 0.3893\n",
            "Epoch 2/20\n",
            "  1/500 [..............................] - ETA: 41s - loss: 1.0826 - accuracy: 0.2812"
          ]
        },
        {
          "output_type": "stream",
          "name": "stderr",
          "text": [
            "/usr/local/lib/python3.10/dist-packages/keras/src/engine/training.py:3103: UserWarning: You are saving your model as an HDF5 file via `model.save()`. This file format is considered legacy. We recommend using instead the native Keras format, e.g. `model.save('my_model.keras')`.\n",
            "  saving_api.save_model(\n"
          ]
        },
        {
          "output_type": "stream",
          "name": "stdout",
          "text": [
            "500/500 [==============================] - ETA: 0s - loss: 0.8536 - accuracy: 0.5886\n",
            "Epoch 2: val_accuracy improved from 0.38925 to 0.75775, saving model to best_model.h5\n",
            "500/500 [==============================] - 32s 64ms/step - loss: 0.8536 - accuracy: 0.5886 - val_loss: 0.7412 - val_accuracy: 0.7577\n",
            "Epoch 3/20\n",
            "499/500 [============================>.] - ETA: 0s - loss: 0.4887 - accuracy: 0.8158\n",
            "Epoch 3: val_accuracy improved from 0.75775 to 0.83650, saving model to best_model.h5\n",
            "500/500 [==============================] - 29s 57ms/step - loss: 0.4881 - accuracy: 0.8160 - val_loss: 0.5673 - val_accuracy: 0.8365\n",
            "Epoch 4/20\n",
            "499/500 [============================>.] - ETA: 0s - loss: 0.3260 - accuracy: 0.8858\n",
            "Epoch 4: val_accuracy improved from 0.83650 to 0.85400, saving model to best_model.h5\n",
            "500/500 [==============================] - 29s 59ms/step - loss: 0.3262 - accuracy: 0.8857 - val_loss: 0.5121 - val_accuracy: 0.8540\n",
            "Epoch 5/20\n",
            "500/500 [==============================] - ETA: 0s - loss: 0.2531 - accuracy: 0.9143\n",
            "Epoch 5: val_accuracy improved from 0.85400 to 0.86150, saving model to best_model.h5\n",
            "500/500 [==============================] - 29s 57ms/step - loss: 0.2531 - accuracy: 0.9143 - val_loss: 0.5013 - val_accuracy: 0.8615\n",
            "Epoch 6/20\n",
            "499/500 [============================>.] - ETA: 0s - loss: 0.2209 - accuracy: 0.9256\n",
            "Epoch 6: val_accuracy did not improve from 0.86150\n",
            "500/500 [==============================] - 28s 57ms/step - loss: 0.2205 - accuracy: 0.9257 - val_loss: 0.5188 - val_accuracy: 0.8575\n",
            "Epoch 7/20\n",
            "499/500 [============================>.] - ETA: 0s - loss: 0.1935 - accuracy: 0.9362\n",
            "Epoch 7: val_accuracy improved from 0.86150 to 0.87225, saving model to best_model.h5\n",
            "500/500 [==============================] - 29s 59ms/step - loss: 0.1933 - accuracy: 0.9362 - val_loss: 0.4775 - val_accuracy: 0.8723\n",
            "Epoch 8/20\n",
            "500/500 [==============================] - ETA: 0s - loss: 0.1575 - accuracy: 0.9471\n",
            "Epoch 8: val_accuracy did not improve from 0.87225\n",
            "500/500 [==============================] - 29s 59ms/step - loss: 0.1575 - accuracy: 0.9471 - val_loss: 0.4925 - val_accuracy: 0.8702\n",
            "Epoch 9/20\n",
            "500/500 [==============================] - ETA: 0s - loss: 0.1415 - accuracy: 0.9536\n",
            "Epoch 9: val_accuracy did not improve from 0.87225\n",
            "500/500 [==============================] - 29s 58ms/step - loss: 0.1415 - accuracy: 0.9536 - val_loss: 0.5534 - val_accuracy: 0.8602\n",
            "Epoch 10/20\n",
            "500/500 [==============================] - ETA: 0s - loss: 0.1272 - accuracy: 0.9571\n",
            "Epoch 10: val_accuracy improved from 0.87225 to 0.87550, saving model to best_model.h5\n",
            "500/500 [==============================] - 29s 59ms/step - loss: 0.1272 - accuracy: 0.9571 - val_loss: 0.5064 - val_accuracy: 0.8755\n",
            "Epoch 11/20\n",
            "499/500 [============================>.] - ETA: 0s - loss: 0.1433 - accuracy: 0.9517\n",
            "Epoch 11: val_accuracy did not improve from 0.87550\n",
            "500/500 [==============================] - 33s 66ms/step - loss: 0.1432 - accuracy: 0.9517 - val_loss: 0.5366 - val_accuracy: 0.8698\n",
            "Epoch 12/20\n",
            "499/500 [============================>.] - ETA: 0s - loss: 0.1000 - accuracy: 0.9667\n",
            "Epoch 12: val_accuracy improved from 0.87550 to 0.88100, saving model to best_model.h5\n",
            "500/500 [==============================] - 29s 58ms/step - loss: 0.1001 - accuracy: 0.9666 - val_loss: 0.5153 - val_accuracy: 0.8810\n",
            "Epoch 13/20\n",
            "500/500 [==============================] - ETA: 0s - loss: 0.1103 - accuracy: 0.9654\n",
            "Epoch 13: val_accuracy improved from 0.88100 to 0.88575, saving model to best_model.h5\n",
            "500/500 [==============================] - 30s 60ms/step - loss: 0.1103 - accuracy: 0.9654 - val_loss: 0.5065 - val_accuracy: 0.8857\n",
            "Epoch 14/20\n",
            "500/500 [==============================] - ETA: 0s - loss: 0.0836 - accuracy: 0.9726\n",
            "Epoch 14: val_accuracy did not improve from 0.88575\n",
            "500/500 [==============================] - 29s 58ms/step - loss: 0.0836 - accuracy: 0.9726 - val_loss: 0.5493 - val_accuracy: 0.8770\n",
            "Epoch 15/20\n",
            "500/500 [==============================] - ETA: 0s - loss: 0.0854 - accuracy: 0.9740\n",
            "Epoch 15: val_accuracy did not improve from 0.88575\n",
            "500/500 [==============================] - 30s 59ms/step - loss: 0.0854 - accuracy: 0.9740 - val_loss: 0.5686 - val_accuracy: 0.8670\n",
            "Epoch 16/20\n",
            "500/500 [==============================] - ETA: 0s - loss: 0.0737 - accuracy: 0.9737\n",
            "Epoch 16: val_accuracy did not improve from 0.88575\n",
            "Restoring model weights from the end of the best epoch: 13.\n",
            "500/500 [==============================] - 29s 57ms/step - loss: 0.0737 - accuracy: 0.9737 - val_loss: 0.5874 - val_accuracy: 0.8673\n",
            "Epoch 16: early stopping\n"
          ]
        }
      ]
    },
    {
      "cell_type": "code",
      "source": [
        "test_loss, test_accuracy = model.evaluate(test_padded, test_labels)\n",
        "print(f'Test Accuracy: {test_accuracy}')"
      ],
      "metadata": {
        "colab": {
          "base_uri": "https://localhost:8080/"
        },
        "id": "nbLdrmN5ICac",
        "outputId": "ed864e52-b6fa-4472-dc57-4d5034794253"
      },
      "execution_count": 11,
      "outputs": [
        {
          "output_type": "stream",
          "name": "stdout",
          "text": [
            "125/125 [==============================] - 2s 15ms/step - loss: 0.5065 - accuracy: 0.8857\n",
            "Test Accuracy: 0.8857499957084656\n"
          ]
        }
      ]
    },
    {
      "cell_type": "code",
      "source": [
        "import matplotlib.pyplot as plt\n",
        "plt.figure(figsize=(12, 4))\n",
        "\n",
        "plt.subplot(1, 2, 1)\n",
        "plt.plot(history.history['accuracy'], label='accuracy')\n",
        "plt.plot(history.history['val_accuracy'], label='val_accuracy')\n",
        "plt.xlabel('Epoch')\n",
        "plt.ylabel('Accuracy')\n",
        "plt.legend()\n",
        "\n",
        "plt.subplot(1, 2, 2)\n",
        "plt.plot(history.history['loss'], label='loss')\n",
        "plt.plot(history.history['val_loss'], label='val_loss')\n",
        "plt.xlabel('Epoch')\n",
        "plt.ylabel('Loss')\n",
        "plt.legend()\n",
        "\n",
        "plt.tight_layout()\n",
        "plt.show()"
      ],
      "metadata": {
        "colab": {
          "base_uri": "https://localhost:8080/",
          "height": 406
        },
        "id": "geklsWbcIEdB",
        "outputId": "3ffa632d-ac0f-45c2-e4bc-d26da698b4b0"
      },
      "execution_count": 12,
      "outputs": [
        {
          "output_type": "display_data",
          "data": {
            "text/plain": [
              "<Figure size 1200x400 with 2 Axes>"
            ],
            "image/png": "[encoded data removed]"
          },
          "metadata": {}
        }
      ]
    },
    {
      "cell_type": "code",
      "source": [
        "random_tweets = [\n",
        "    \"I'm feeling really happy today!\",\n",
        "    \"Today, I went to school and learn the subject that I love\"\n",
        "]\n",
        "\n",
        "random_sequences = tokenizer.texts_to_sequences(random_tweets)\n",
        "random_padded = pad_sequences(random_sequences, maxlen=max_sequence_length, padding='post', truncating='post')\n",
        "\n",
        "sentiment_labels = ['sadness', 'joy', 'love', 'anger', 'fear', 'surprise']\n",
        "predictions = model.predict(random_padded)\n",
        "for i, prediction in enumerate(predictions):\n",
        "    predicted_label = sentiment_labels[np.argmax(prediction)]\n",
        "    print(f\"Random Tweet {i+1}: {random_tweets[i]} - Predicted Sentiment: {predicted_label}\")"
      ],
      "metadata": {
        "colab": {
          "base_uri": "https://localhost:8080/"
        },
        "id": "x6vbxH_ZIhL5",
        "outputId": "e82c3f73-74b1-470c-8cc9-c14cadc889d7"
      },
      "execution_count": 19,
      "outputs": [
        {
          "output_type": "stream",
          "name": "stdout",
          "text": [
            "1/1 [==============================] - 0s 30ms/step\n",
            "Random Tweet 1: I'm feeling really happy today! - Predicted Sentiment: joy\n",
            "Random Tweet 2: Today, I went to school and learn the subject that I love - Predicted Sentiment: anger\n"
          ]
        }
      ]
    }
  ]
}